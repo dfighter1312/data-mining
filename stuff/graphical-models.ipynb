{
 "cells": [
  {
   "cell_type": "code",
   "execution_count": 68,
   "id": "03bdf9ca",
   "metadata": {},
   "outputs": [],
   "source": [
    "import numpy as np\n",
    "np.set_printoptions(precision=15)"
   ]
  },
  {
   "cell_type": "code",
   "execution_count": 69,
   "id": "774d6c82",
   "metadata": {},
   "outputs": [],
   "source": [
    "label = ['Party', 'Pub', 'TV', 'study']\n",
    "predictor = ['Tired', 'Hungover', 'Scared', 'Fine']"
   ]
  },
  {
   "cell_type": "code",
   "execution_count": 70,
   "id": "f6241390",
   "metadata": {},
   "outputs": [
    {
     "data": {
      "text/plain": [
       "array([1., 1., 1., 1.])"
      ]
     },
     "execution_count": 70,
     "metadata": {},
     "output_type": "execute_result"
    }
   ],
   "source": [
    "trans_matrix = np.array([\n",
    "    [0.05, 0.05, 0.7, 0.2],\n",
    "    [0.1, 0.05, 0.6, 0.25],\n",
    "    [0.1, 0.3, 0.4, 0.2],\n",
    "    [0.25, 0.4, 0.3, 0.05]\n",
    "])\n",
    "\n",
    "trans_matrix.sum(axis=1) # If all equals 1, it is valid"
   ]
  },
  {
   "cell_type": "code",
   "execution_count": 71,
   "id": "d912381d",
   "metadata": {},
   "outputs": [
    {
     "data": {
      "text/plain": [
       "array([1., 1., 1., 1.])"
      ]
     },
     "execution_count": 71,
     "metadata": {},
     "output_type": "execute_result"
    }
   ],
   "source": [
    "emis_matrix = np.array([\n",
    "    [0.3, 0.4, 0.2, 0.1],\n",
    "    [0.4, 0.2, 0.1, 0.3],\n",
    "    [0.2, 0.1, 0.2, 0.5],\n",
    "    [0.3, 0.05, 0.3, 0.35]\n",
    "])\n",
    "\n",
    "emis_matrix.sum(axis=1) # If all equals 1, it is valid"
   ]
  },
  {
   "cell_type": "code",
   "execution_count": 72,
   "id": "99512d8f",
   "metadata": {},
   "outputs": [],
   "source": [
    "y0 = np.array([0.25, 0.25, 0.25, 0.25])"
   ]
  },
  {
   "cell_type": "code",
   "execution_count": 77,
   "id": "af2f7197",
   "metadata": {},
   "outputs": [
    {
     "data": {
      "text/plain": [
       "[False, False, False]"
      ]
     },
     "execution_count": 77,
     "metadata": {},
     "output_type": "execute_result"
    }
   ],
   "source": [
    "target = ['Tired', 'Tired', 'Scared']\n",
    "\n",
    "def check_valid_target(target, label):\n",
    "    return [t in label for t in target]\n",
    "\n",
    "check_valid_target(target, label)"
   ]
  },
  {
   "cell_type": "code",
   "execution_count": 74,
   "id": "a7eba4ef",
   "metadata": {},
   "outputs": [
    {
     "name": "stdout",
     "output_type": "stream",
     "text": [
      "We have:\n",
      "alpha_0(y0) = p(x0 | y0) * p(y0) = p(x0, y0)\n",
      "Then\n",
      "alpha_0(Party) = p(x0 = Tired | y0 = Party) * p(y0 = Party) = 0.3 * 0.25 = 0.075\n",
      "alpha_0(Pub) = p(x0 = Tired | y0 = Pub) * p(y0 = Pub) = 0.4 * 0.25 = 0.1\n",
      "alpha_0(TV) = p(x0 = Tired | y0 = TV) * p(y0 = TV) = 0.2 * 0.25 = 0.05\n",
      "alpha_0(study) = p(x0 = Tired | y0 = study) * p(y0 = study) = 0.3 * 0.25 = 0.075\n",
      "\n",
      "alpha_1(y1) = p(x1 | y1) * sum_(y0) (alpha_0(y0) * p(y1 | y0))\n",
      "alpha_1(Party) = 0.3 *\n",
      "0.075 * 0.05 +\n",
      "0.1 * 0.1 +\n",
      "0.05 * 0.1 +\n",
      "0.075 * 0.25 \n",
      "= 0.01125\n",
      "alpha_1(Pub) = 0.4 *\n",
      "0.075 * 0.05 +\n",
      "0.1 * 0.05 +\n",
      "0.05 * 0.3 +\n",
      "0.075 * 0.4 \n",
      "= 0.0215\n",
      "alpha_1(TV) = 0.2 *\n",
      "0.075 * 0.7 +\n",
      "0.1 * 0.6 +\n",
      "0.05 * 0.4 +\n",
      "0.075 * 0.3 \n",
      "= 0.031\n",
      "alpha_1(study) = 0.3 *\n",
      "0.075 * 0.2 +\n",
      "0.1 * 0.25 +\n",
      "0.05 * 0.2 +\n",
      "0.075 * 0.05 \n",
      "= 0.016125\n",
      "alpha_1(y2) = p(x2 | y2) * sum_(y1) (alpha_1(y1) * p(y2 | y1))\n",
      "alpha_2(Party) = 0.1 *\n",
      "0.01125 * 0.05 +\n",
      "0.0215 * 0.1 +\n",
      "0.031 * 0.1 +\n",
      "0.016125 * 0.25 \n",
      "= 0.00098438\n",
      "alpha_2(Pub) = 0.3 *\n",
      "0.01125 * 0.05 +\n",
      "0.0215 * 0.05 +\n",
      "0.031 * 0.3 +\n",
      "0.016125 * 0.4 \n",
      "= 0.00521625\n",
      "alpha_2(TV) = 0.5 *\n",
      "0.01125 * 0.7 +\n",
      "0.0215 * 0.6 +\n",
      "0.031 * 0.4 +\n",
      "0.016125 * 0.3 \n",
      "= 0.01900625\n",
      "alpha_2(study) = 0.35 *\n",
      "0.01125 * 0.2 +\n",
      "0.0215 * 0.25 +\n",
      "0.031 * 0.2 +\n",
      "0.016125 * 0.05 \n",
      "= 0.00512094\n"
     ]
    },
    {
     "data": {
      "text/plain": [
       "array([[0.075     , 0.01125   , 0.00098438],\n",
       "       [0.1       , 0.0215    , 0.00521625],\n",
       "       [0.05      , 0.031     , 0.01900625],\n",
       "       [0.075     , 0.016125  , 0.00512094]])"
      ]
     },
     "execution_count": 74,
     "metadata": {},
     "output_type": "execute_result"
    }
   ],
   "source": [
    "def forward_algorithm(label, predictor, trans, emis, y0, target):\n",
    "    # Initialize result matrix\n",
    "    ret = np.zeros((len(label), len(target)))\n",
    "    # Calculate y1\n",
    "    print(\"We have:\")\n",
    "    print(\"alpha_0(y0) = p(x0 | y0) * p(y0) = p(x0, y0)\")\n",
    "    \n",
    "    print(\"Then\")\n",
    "    x_idx = predictor.index(target[0])\n",
    "    for i, val in enumerate(label):\n",
    "        print(\"alpha_0({0}) = p(x0 = {1} | y0 = {0}) * p(y0 = {0}) = {2} * {3} = {4}\".format(val, target[0], emis[i, x_idx], y0[i], emis[i, x_idx] * y0[i]))\n",
    "        ret[i, 0] = emis[i, x_idx] * y0[i]\n",
    "    \n",
    "    print()\n",
    "    for i in range(1, len(target)):\n",
    "        print(\"alpha_1(y{1}) = p(x{1} | y{1}) * sum_(y{0}) (alpha_{0}(y{0}) * p(y{1} | y{0}))\".format(i-1, i))\n",
    "        x_idx = predictor.index(target[i])\n",
    "        for j, val in enumerate(label):\n",
    "            print(\"alpha_{0}({1}) = {2} *\".format(i, val, emis[j, x_idx]))\n",
    "            total = 0\n",
    "            for k in range(len(label)):  \n",
    "                print(\"{0} * {1} {2}\".format(ret[k, i-1], trans[k, j], '+' if k != len(label) - 1 else ''))\n",
    "                total += ret[k, i-1] * trans[k, j]\n",
    "            total *= emis[j, x_idx]\n",
    "            print(\"= {0}\".format(np.round(total, 8)))\n",
    "            ret[j, i] = np.round(total, 8)\n",
    "    return ret\n",
    "        \n",
    "forward_algorithm(label, predictor, trans_matrix, emis_matrix, y0, target)"
   ]
  },
  {
   "cell_type": "code",
   "execution_count": 81,
   "id": "c5a565c9",
   "metadata": {},
   "outputs": [
    {
     "name": "stdout",
     "output_type": "stream",
     "text": [
      "We have:\n",
      "p(x1, y1) = p(x1 | y1) * p(y1)\n",
      "Then\n",
      "p(y1 = Party) = p(x1 = Tired | y1 = Party) * p(y1 = Party) = 0.3 * 0.25 = 0.075\n",
      "p(y1 = Pub) = p(x1 = Tired | y1 = Pub) * p(y1 = Pub) = 0.4 * 0.25 = 0.1\n",
      "p(y1 = TV) = p(x1 = Tired | y1 = TV) * p(y1 = TV) = 0.2 * 0.25 = 0.05\n",
      "p(y1 = study) = p(x1 = Tired | y1 = study) * p(y1 = study) = 0.3 * 0.25 = 0.075\n",
      "\n",
      "p(x1, x2, y1, y2) = p(y2 | x2) * p(y2 | y1) * p(x1, y1)\n",
      "p(x1 = Tired, x2 = Tired, y1 = Party, y2 = Party) = 0.3 * 0.05 * 0.075 = 0.001125\n",
      "p(x1 = Tired, x2 = Tired, y1 = Party, y2 = Pub) = 0.3 * 0.1 * 0.1 = 0.003\n",
      "p(x1 = Tired, x2 = Tired, y1 = Party, y2 = TV) = 0.3 * 0.1 * 0.05 = 0.0015\n",
      "p(x1 = Tired, x2 = Tired, y1 = Party, y2 = study) = 0.3 * 0.25 * 0.075 = 0.005625\n",
      "max(.) = 0.005625\n",
      "p(x1 = Tired, x2 = Tired, y1 = Pub, y2 = Party) = 0.4 * 0.05 * 0.075 = 0.0015\n",
      "p(x1 = Tired, x2 = Tired, y1 = Pub, y2 = Pub) = 0.4 * 0.05 * 0.1 = 0.002\n",
      "p(x1 = Tired, x2 = Tired, y1 = Pub, y2 = TV) = 0.4 * 0.3 * 0.05 = 0.006\n",
      "p(x1 = Tired, x2 = Tired, y1 = Pub, y2 = study) = 0.4 * 0.4 * 0.075 = 0.012\n",
      "max(.) = 0.012\n",
      "p(x1 = Tired, x2 = Tired, y1 = TV, y2 = Party) = 0.2 * 0.7 * 0.075 = 0.0105\n",
      "p(x1 = Tired, x2 = Tired, y1 = TV, y2 = Pub) = 0.2 * 0.6 * 0.1 = 0.012\n",
      "p(x1 = Tired, x2 = Tired, y1 = TV, y2 = TV) = 0.2 * 0.4 * 0.05 = 0.004\n",
      "p(x1 = Tired, x2 = Tired, y1 = TV, y2 = study) = 0.2 * 0.3 * 0.075 = 0.0045\n",
      "max(.) = 0.012\n",
      "p(x1 = Tired, x2 = Tired, y1 = study, y2 = Party) = 0.3 * 0.2 * 0.075 = 0.0045\n",
      "p(x1 = Tired, x2 = Tired, y1 = study, y2 = Pub) = 0.3 * 0.25 * 0.1 = 0.0075\n",
      "p(x1 = Tired, x2 = Tired, y1 = study, y2 = TV) = 0.3 * 0.2 * 0.05 = 0.003\n",
      "p(x1 = Tired, x2 = Tired, y1 = study, y2 = study) = 0.3 * 0.05 * 0.075 = 0.001125\n",
      "max(.) = 0.0075\n",
      "\n",
      "p(x2, x3, y2, y3) = p(y3 | x3) * p(y3 | y2) * p(x2, y2)\n",
      "p(x2 = Tired, x3 = Scared, y2 = Party, y3 = Party) = 0.2 * 0.05 * 0.005625 = 5.625e-05\n",
      "p(x2 = Tired, x3 = Scared, y2 = Party, y3 = Pub) = 0.2 * 0.1 * 0.012 = 0.00024\n",
      "p(x2 = Tired, x3 = Scared, y2 = Party, y3 = TV) = 0.2 * 0.1 * 0.012 = 0.00024\n",
      "p(x2 = Tired, x3 = Scared, y2 = Party, y3 = study) = 0.2 * 0.25 * 0.0075 = 0.000375\n",
      "max(.) = 0.000375\n",
      "p(x2 = Tired, x3 = Scared, y2 = Pub, y3 = Party) = 0.1 * 0.05 * 0.005625 = 2.813e-05\n",
      "p(x2 = Tired, x3 = Scared, y2 = Pub, y3 = Pub) = 0.1 * 0.05 * 0.012 = 6e-05\n",
      "p(x2 = Tired, x3 = Scared, y2 = Pub, y3 = TV) = 0.1 * 0.3 * 0.012 = 0.00036\n",
      "p(x2 = Tired, x3 = Scared, y2 = Pub, y3 = study) = 0.1 * 0.4 * 0.0075 = 0.0003\n",
      "max(.) = 0.00036\n",
      "p(x2 = Tired, x3 = Scared, y2 = TV, y3 = Party) = 0.2 * 0.7 * 0.005625 = 0.0007875\n",
      "p(x2 = Tired, x3 = Scared, y2 = TV, y3 = Pub) = 0.2 * 0.6 * 0.012 = 0.00144\n",
      "p(x2 = Tired, x3 = Scared, y2 = TV, y3 = TV) = 0.2 * 0.4 * 0.012 = 0.00096\n",
      "p(x2 = Tired, x3 = Scared, y2 = TV, y3 = study) = 0.2 * 0.3 * 0.0075 = 0.00045\n",
      "max(.) = 0.00144\n",
      "p(x2 = Tired, x3 = Scared, y2 = study, y3 = Party) = 0.3 * 0.2 * 0.005625 = 0.0003375\n",
      "p(x2 = Tired, x3 = Scared, y2 = study, y3 = Pub) = 0.3 * 0.25 * 0.012 = 0.0009\n",
      "p(x2 = Tired, x3 = Scared, y2 = study, y3 = TV) = 0.3 * 0.2 * 0.012 = 0.00072\n",
      "p(x2 = Tired, x3 = Scared, y2 = study, y3 = study) = 0.3 * 0.05 * 0.0075 = 0.0001125\n",
      "max(.) = 0.0009\n"
     ]
    },
    {
     "data": {
      "text/plain": [
       "(array([['0.0', '0.001125', '5.625e-05'],\n",
       "        ['0.0', '0.003', '0.00024'],\n",
       "        ['0.0', '0.0015', '0.00024'],\n",
       "        ['0.0', '0.005625', '0.000375'],\n",
       "        ['0.0', '0.0015', '2.813e-05'],\n",
       "        ['0.0', '0.002', '6e-05'],\n",
       "        ['0.0', '0.006', '0.00036'],\n",
       "        ['0.0', '0.012', '0.0003'],\n",
       "        ['0.0', '0.0105', '0.0007875'],\n",
       "        ['0.0', '0.012', '0.00144'],\n",
       "        ['0.0', '0.004', '0.00096'],\n",
       "        ['0.0', '0.0045', '0.00045'],\n",
       "        ['0.0', '0.0045', '0.0003375'],\n",
       "        ['0.0', '0.0075', '0.0009'],\n",
       "        ['0.0', '0.003', '0.00072'],\n",
       "        ['0.0', '0.001125', '0.0001125']], dtype='<U32'),\n",
       " array([[0.075   , 0.005625, 0.000375],\n",
       "        [0.1     , 0.012   , 0.00036 ],\n",
       "        [0.05    , 0.012   , 0.00144 ],\n",
       "        [0.075   , 0.0075  , 0.0009  ]]))"
      ]
     },
     "execution_count": 81,
     "metadata": {},
     "output_type": "execute_result"
    }
   ],
   "source": [
    "def viterbi_algorithm(label, predictor, trans, emis, y0, target):\n",
    "    # Initialize result matrix\n",
    "    ret = np.zeros((len(label), len(target)))\n",
    "    cal = np.zeros((len(label) ** 2, len(target)))\n",
    "    # Calculate y1\n",
    "    print(\"We have:\")\n",
    "    print(\"p(x1, y1) = p(x1 | y1) * p(y1)\")\n",
    "    \n",
    "    print(\"Then\")\n",
    "    x_idx = predictor.index(target[0])\n",
    "    for i, val in enumerate(label):\n",
    "        print(\"p(y1 = {0}) = p(x1 = {1} | y1 = {0}) * p(y1 = {0}) = {2} * {3} = {4}\".format(val, target[0], emis[i, x_idx], y0[i], emis[i, x_idx] * y0[i]))\n",
    "        ret[i, 0] = emis[i, x_idx] * y0[i]\n",
    "    \n",
    "    for i in range(1, len(target)):\n",
    "        print()\n",
    "        print(\"p(x{0}, x{1}, y{0}, y{1}) = p(y{1} | x{1}) * p(y{1} | y{0}) * p(x{0}, y{0})\".format(i, i+1))\n",
    "        for j, val in enumerate(label):\n",
    "            for k, val2 in enumerate(label):\n",
    "#                 print(\"p({0}, {1}, {2}, {3}) = p({3} | {1}) * p({3} | {2}) * p({0}, {2}) = {4} * {5} * {6} = {7}\".format(\n",
    "                print(\"p(x{8} = {0}, x{9} = {1}, y{8} = {2}, y{9} = {3}) = {4} * {5} * {6} = {7}\".format(\n",
    "                    target[i-1],\n",
    "                    target[i],\n",
    "                    val,\n",
    "                    val2,\n",
    "                    emis[j, predictor.index(target[i])],\n",
    "                    trans[k, j],\n",
    "                    ret[k, i-1],\n",
    "                    np.round(emis[j, predictor.index(target[i])] * trans[k, j] * ret[k, i-1], 8),\n",
    "                    i,\n",
    "                    i+1\n",
    "                ))\n",
    "                cal[k + len(label) * j, i] = np.round(emis[j, predictor.index(target[i])] * trans[k, j] * ret[k, i-1], 8)\n",
    "            print(\"max(.) = {0}\".format(np.max(cal[len(label) * j:len(label) * (j+1)][:, i])))\n",
    "            ret[j, i] = np.max(cal[len(label) * j:len(label) * (j+1)][:, i])\n",
    "        \n",
    "    return cal.astype(str), ret\n",
    "        \n",
    "viterbi_algorithm(label, predictor, trans_matrix, emis_matrix, y0, target)"
   ]
  },
  {
   "cell_type": "code",
   "execution_count": null,
   "id": "e2d6a8b0",
   "metadata": {},
   "outputs": [],
   "source": []
  }
 ],
 "metadata": {
  "kernelspec": {
   "display_name": "Python 3",
   "language": "python",
   "name": "python3"
  },
  "language_info": {
   "codemirror_mode": {
    "name": "ipython",
    "version": 3
   },
   "file_extension": ".py",
   "mimetype": "text/x-python",
   "name": "python",
   "nbconvert_exporter": "python",
   "pygments_lexer": "ipython3",
   "version": "3.8.8"
  }
 },
 "nbformat": 4,
 "nbformat_minor": 5
}
