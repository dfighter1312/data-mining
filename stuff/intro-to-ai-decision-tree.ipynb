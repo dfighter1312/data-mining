{
 "cells": [
  {
   "cell_type": "code",
   "execution_count": 1,
   "id": "729aa120",
   "metadata": {},
   "outputs": [],
   "source": [
    "import pandas as pd\n",
    "import numpy as np"
   ]
  },
  {
   "cell_type": "code",
   "execution_count": 5,
   "id": "6e2f1e03",
   "metadata": {},
   "outputs": [],
   "source": [
    "def normalize(N):\n",
    "    return N / np.sum(N)\n",
    "\n",
    "def clean(n):\n",
    "    return np.round(np.abs(n), 4)\n",
    "\n",
    "def entropy(N, r, g=None, value=None):\n",
    "    N = normalize(N)\n",
    "    ent = - np.sum(N * np.log2(N))\n",
    "    print(f\"H({r}{'|' + g + ' = ' + str(value) if g != None else ''}) = {clean(ent)}\")\n",
    "    return ent"
   ]
  },
  {
   "cell_type": "code",
   "execution_count": 8,
   "id": "00e82b23",
   "metadata": {},
   "outputs": [],
   "source": [
    "def expand(df, target_col='Y', r='S'):\n",
    "    \n",
    "    # Calculate root node\n",
    "    print(\"Entropy of the dataset:\")\n",
    "    big_ent = entropy(df[target_col].value_counts().values, r)\n",
    "    print()\n",
    "    \n",
    "    # For each attribute\n",
    "    for i in set(df.columns) - {target_col}:\n",
    "        print(f\"For {i}:\")\n",
    "        p_lst = []\n",
    "        entropy_lst = []\n",
    "        for val in df[i].unique():\n",
    "            p = len(df[df[i] == val]) / len(df)\n",
    "            print(f\"p({i} = {val}) = {len(df[df[i] == val])} / {len(df)} = {clean(p)}\")\n",
    "            p_lst.append(p)\n",
    "            display(df[df[i] == val][target_col].value_counts())\n",
    "            ent = entropy(df[df[i] == val][target_col].value_counts().values, r, i, val)\n",
    "            entropy_lst.append(ent)\n",
    "        small_ent = np.sum(np.array(p_lst) * np.array(entropy_lst))\n",
    "        print(f\"H({r}|{i}) = {' + '.join([str(clean(a)) + ' * ' + str(clean(b)) for a, b in zip(p_lst, entropy_lst)])} = {clean(small_ent)}\")\n",
    "        print(f\"Information gain of {i} is:\")\n",
    "        print(f\"Gain({i}) = H({r}) - H({r}|{i}) = {clean(big_ent)} - {clean(small_ent)} = {clean(big_ent - small_ent)}\")\n",
    "        print()\n",
    "    print(f\"The attribute should be choose is \") # Fill it by yourself    "
   ]
  },
  {
   "cell_type": "code",
   "execution_count": 9,
   "id": "aa45c70d",
   "metadata": {},
   "outputs": [
    {
     "name": "stdout",
     "output_type": "stream",
     "text": [
      "Entropy of the dataset:\n",
      "H(S) = 0.9403\n",
      "\n",
      "For Wind:\n",
      "p(Wind = Weak) = 8 / 14 = 0.5714\n"
     ]
    },
    {
     "data": {
      "text/plain": [
       "Yes    6\n",
       "No     2\n",
       "Name: Play, dtype: int64"
      ]
     },
     "metadata": {},
     "output_type": "display_data"
    },
    {
     "name": "stdout",
     "output_type": "stream",
     "text": [
      "H(S|Wind = Weak) = 0.8113\n",
      "p(Wind = Strong) = 6 / 14 = 0.4286\n"
     ]
    },
    {
     "data": {
      "text/plain": [
       "Yes    3\n",
       "No     3\n",
       "Name: Play, dtype: int64"
      ]
     },
     "metadata": {},
     "output_type": "display_data"
    },
    {
     "name": "stdout",
     "output_type": "stream",
     "text": [
      "H(S|Wind = Strong) = 1.0\n",
      "H(S|Wind) = 0.5714 * 0.8113 + 0.4286 * 1.0 = 0.8922\n",
      "Information gain of Wind is:\n",
      "Gain(Wind) = H(S) - H(S|Wind) = 0.9403 - 0.8922 = 0.0481\n",
      "\n",
      "For Outlook:\n",
      "p(Outlook = Sunny) = 5 / 14 = 0.3571\n"
     ]
    },
    {
     "data": {
      "text/plain": [
       "No     3\n",
       "Yes    2\n",
       "Name: Play, dtype: int64"
      ]
     },
     "metadata": {},
     "output_type": "display_data"
    },
    {
     "name": "stdout",
     "output_type": "stream",
     "text": [
      "H(S|Outlook = Sunny) = 0.971\n",
      "p(Outlook = Overcast) = 4 / 14 = 0.2857\n"
     ]
    },
    {
     "data": {
      "text/plain": [
       "Yes    4\n",
       "Name: Play, dtype: int64"
      ]
     },
     "metadata": {},
     "output_type": "display_data"
    },
    {
     "name": "stdout",
     "output_type": "stream",
     "text": [
      "H(S|Outlook = Overcast) = 0.0\n",
      "p(Outlook = Rain) = 5 / 14 = 0.3571\n"
     ]
    },
    {
     "data": {
      "text/plain": [
       "Yes    3\n",
       "No     2\n",
       "Name: Play, dtype: int64"
      ]
     },
     "metadata": {},
     "output_type": "display_data"
    },
    {
     "name": "stdout",
     "output_type": "stream",
     "text": [
      "H(S|Outlook = Rain) = 0.971\n",
      "H(S|Outlook) = 0.3571 * 0.971 + 0.2857 * 0.0 + 0.3571 * 0.971 = 0.6935\n",
      "Information gain of Outlook is:\n",
      "Gain(Outlook) = H(S) - H(S|Outlook) = 0.9403 - 0.6935 = 0.2467\n",
      "\n",
      "For Temperature:\n",
      "p(Temperature = Hot) = 4 / 14 = 0.2857\n"
     ]
    },
    {
     "data": {
      "text/plain": [
       "Yes    2\n",
       "No     2\n",
       "Name: Play, dtype: int64"
      ]
     },
     "metadata": {},
     "output_type": "display_data"
    },
    {
     "name": "stdout",
     "output_type": "stream",
     "text": [
      "H(S|Temperature = Hot) = 1.0\n",
      "p(Temperature = Mild) = 6 / 14 = 0.4286\n"
     ]
    },
    {
     "data": {
      "text/plain": [
       "Yes    4\n",
       "No     2\n",
       "Name: Play, dtype: int64"
      ]
     },
     "metadata": {},
     "output_type": "display_data"
    },
    {
     "name": "stdout",
     "output_type": "stream",
     "text": [
      "H(S|Temperature = Mild) = 0.9183\n",
      "p(Temperature = Cool) = 4 / 14 = 0.2857\n"
     ]
    },
    {
     "data": {
      "text/plain": [
       "Yes    3\n",
       "No     1\n",
       "Name: Play, dtype: int64"
      ]
     },
     "metadata": {},
     "output_type": "display_data"
    },
    {
     "name": "stdout",
     "output_type": "stream",
     "text": [
      "H(S|Temperature = Cool) = 0.8113\n",
      "H(S|Temperature) = 0.2857 * 1.0 + 0.4286 * 0.9183 + 0.2857 * 0.8113 = 0.9111\n",
      "Information gain of Temperature is:\n",
      "Gain(Temperature) = H(S) - H(S|Temperature) = 0.9403 - 0.9111 = 0.0292\n",
      "\n",
      "For Humidity:\n",
      "p(Humidity = High) = 7 / 14 = 0.5\n"
     ]
    },
    {
     "data": {
      "text/plain": [
       "No     4\n",
       "Yes    3\n",
       "Name: Play, dtype: int64"
      ]
     },
     "metadata": {},
     "output_type": "display_data"
    },
    {
     "name": "stdout",
     "output_type": "stream",
     "text": [
      "H(S|Humidity = High) = 0.9852\n",
      "p(Humidity = Normal) = 7 / 14 = 0.5\n"
     ]
    },
    {
     "data": {
      "text/plain": [
       "Yes    6\n",
       "No     1\n",
       "Name: Play, dtype: int64"
      ]
     },
     "metadata": {},
     "output_type": "display_data"
    },
    {
     "name": "stdout",
     "output_type": "stream",
     "text": [
      "H(S|Humidity = Normal) = 0.5917\n",
      "H(S|Humidity) = 0.5 * 0.9852 + 0.5 * 0.5917 = 0.7885\n",
      "Information gain of Humidity is:\n",
      "Gain(Humidity) = H(S) - H(S|Humidity) = 0.9403 - 0.7885 = 0.1518\n",
      "\n",
      "The attribute should be choose is \n"
     ]
    }
   ],
   "source": [
    "df = pd.read_csv('test.csv')\n",
    "expand(df, 'Play')"
   ]
  },
  {
   "cell_type": "code",
   "execution_count": null,
   "id": "382b879f",
   "metadata": {},
   "outputs": [],
   "source": []
  }
 ],
 "metadata": {
  "kernelspec": {
   "display_name": "Python 3",
   "language": "python",
   "name": "python3"
  },
  "language_info": {
   "codemirror_mode": {
    "name": "ipython",
    "version": 3
   },
   "file_extension": ".py",
   "mimetype": "text/x-python",
   "name": "python",
   "nbconvert_exporter": "python",
   "pygments_lexer": "ipython3",
   "version": "3.8.8"
  }
 },
 "nbformat": 4,
 "nbformat_minor": 5
}
